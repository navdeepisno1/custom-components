{
 "cells": [
  {
   "cell_type": "code",
   "execution_count": 5,
   "id": "c6bf63a7-00e4-491d-9ffd-2e6531486384",
   "metadata": {},
   "outputs": [],
   "source": [
    "import tensorflow as tf\n",
    "import keras\n",
    "import numpy as np\n",
    "\n",
    "import os\n",
    "import numpy as np"
   ]
  },
  {
   "cell_type": "code",
   "execution_count": 19,
   "id": "5b06f090-4203-4b14-a891-97b71ab11d5e",
   "metadata": {},
   "outputs": [],
   "source": [
    "root_dir = r'E:\\suvidha\\retvec_bert\\datasets\\archive\\DUTS-TR\\DUTS-TR-Image'\n",
    "image_names = [os.path.join(root_dir,i) for i in os.listdir(root_dir)]\n",
    "\n",
    "def process_image(image_path):\n",
    "    image = tf.io.read_file(image_path)\n",
    "    image = tf.io.decode_png(image, 3)\n",
    "    image_x = tf.image.resize(image, (64,64))\n",
    "    image_y = tf.image.resize(image, (256,256))\n",
    "    \n",
    "    image_x = image_x * 2.0\n",
    "    image_y = image_y * 2.0\n",
    "    \n",
    "    image_x = image_x / 255.0\n",
    "    image_y = image_y / 255.0\n",
    "    \n",
    "    image_x = image_x - 1.0\n",
    "    image_y = image_y - 1.0\n",
    "    \n",
    "    return image_x,image_y\n",
    "\n",
    "def process_image_x(image_path):\n",
    "    image = tf.io.read_file(image_path)\n",
    "    image = tf.io.decode_png(image, 3)\n",
    "    image = tf.image.resize(image, (64,64))\n",
    "    image = image * 2.0\n",
    "    image = image / 255.0\n",
    "    image = image - 1.0\n",
    "    return image\n",
    "\n",
    "def process_image_y(image_path):\n",
    "    image = tf.io.read_file(image_path)\n",
    "    image = tf.io.decode_png(image, 3)\n",
    "    image = tf.image.resize(image, (256,256))\n",
    "    image = image * 2.0\n",
    "    image = image / 255.0\n",
    "    image = image - 1.0\n",
    "    return image\n",
    "\n",
    "def get_dataset(image_names,process_image,batch_size = 4):    \n",
    "    dataset = tf.data.Dataset.from_tensor_slices(image_names)\n",
    "    dataset = dataset.shuffle(batch_size * 10)\n",
    "    dataset = dataset.map(process_image).batch(batch_size)\n",
    "    return dataset\n",
    "\n",
    "\n",
    "batch_size = 4\n",
    "dataset = get_dataset(image_names,process_image,batch_size = batch_size)\n",
    "# dataset_y = get_dataset(image_names,process_image_y,batch_size = batch_size)"
   ]
  },
  {
   "cell_type": "code",
   "execution_count": 13,
   "id": "70277edd-55a0-4852-927d-ebfc64e96ac5",
   "metadata": {},
   "outputs": [],
   "source": [
    "class ResBlock(keras.layers.Layer):\n",
    "    def __init__(self,filters,do_upsample=False,name=None,**kwargs):\n",
    "        super().__init__(name=None,**kwargs)\n",
    "        self.conv_1 = keras.layers.SeparableConv2D(filters,3,padding=\"same\")\n",
    "        self.conv_2 = keras.layers.Conv2D(filters,3,padding=\"same\")\n",
    "\n",
    "        self.conv_residual = keras.layers.SeparableConv2D(filters,3,padding=\"same\")\n",
    "        self.upsample = tf.keras.layers.UpSampling2D(2)\n",
    "        self.do_upsample = do_upsample        \n",
    "\n",
    "    def call(self,x):\n",
    "        residual = x\n",
    "        x = self.conv_1(x)\n",
    "        x = self.conv_2(x)\n",
    "        residual = self.conv_residual(residual)\n",
    "        x = x + residual\n",
    "        if self.do_upsample:\n",
    "            x = self.upsample(x)\n",
    "\n",
    "        x = keras.activations.silu(x)\n",
    "        \n",
    "        return x\n",
    "\n",
    "\n",
    "input = keras.layers.Input((64,64,3),batch_size=None)\n",
    "\n",
    "filters_orig = 64\n",
    "filters = filters_orig\n",
    "x = ResBlock(filters)(input)\n",
    "x0 = ResBlock(filters,do_upsample=True)(x)\n",
    "\n",
    "filters = filters_orig*2\n",
    "x = ResBlock(filters,do_upsample=False)(x0)\n",
    "x = ResBlock(filters,do_upsample=True)(x)\n",
    "\n",
    "filters = filters_orig\n",
    "x = ResBlock(filters,do_upsample=False)(x) + tf.keras.layers.UpSampling2D(2)(x0)\n",
    "x = ResBlock(3,do_upsample=False)(x)\n",
    "\n",
    "model = keras.Model(input,x,name=\"super_resolution\")\n",
    "# model.summary()"
   ]
  },
  {
   "cell_type": "code",
   "execution_count": null,
   "id": "0c88849a-0e71-4c5b-8aec-e0b933f7fa7f",
   "metadata": {},
   "outputs": [
    {
     "name": "stdout",
     "output_type": "stream",
     "text": [
      "Epoch 1/5\n",
      "  10/3893 [..............................] - ETA: 7:54:46 - loss: 0.2350"
     ]
    }
   ],
   "source": [
    "optimizer = keras.optimizers.Adam(learning_rate=0.01)\n",
    "model.compile(optimizer=optimizer, loss=\"mse\")\n",
    "epochs = 5\n",
    "ckpt_path = \"super_resolution.h5\"\n",
    "ckpt_callback = tf.keras.callbacks.ModelCheckpoint(\n",
    "    ckpt_path,\n",
    "    save_weights_only=True,\n",
    "    monitor=\"loss\",\n",
    "    mode=\"min\",\n",
    ")\n",
    "model.fit(x=dataset, epochs=epochs, callbacks=[ckpt_callback])"
   ]
  },
  {
   "cell_type": "code",
   "execution_count": 41,
   "id": "490db60a-dc00-43dc-b734-3c76978bf0a0",
   "metadata": {},
   "outputs": [
    {
     "name": "stdout",
     "output_type": "stream",
     "text": [
      "WARNING:tensorflow:Skipping full serialization of Keras layer <keras.layers.reshaping.up_sampling2d.UpSampling2D object at 0x000001C1722235B0>, because it is not built.\n"
     ]
    },
    {
     "name": "stderr",
     "output_type": "stream",
     "text": [
      "WARNING:tensorflow:Skipping full serialization of Keras layer <keras.layers.reshaping.up_sampling2d.UpSampling2D object at 0x000001C1722235B0>, because it is not built.\n"
     ]
    },
    {
     "name": "stdout",
     "output_type": "stream",
     "text": [
      "WARNING:tensorflow:Skipping full serialization of Keras layer <keras.layers.reshaping.up_sampling2d.UpSampling2D object at 0x000001C16FFF5580>, because it is not built.\n"
     ]
    },
    {
     "name": "stderr",
     "output_type": "stream",
     "text": [
      "WARNING:tensorflow:Skipping full serialization of Keras layer <keras.layers.reshaping.up_sampling2d.UpSampling2D object at 0x000001C16FFF5580>, because it is not built.\n"
     ]
    },
    {
     "name": "stdout",
     "output_type": "stream",
     "text": [
      "WARNING:tensorflow:Skipping full serialization of Keras layer <keras.layers.reshaping.up_sampling2d.UpSampling2D object at 0x000001C1726E9A60>, because it is not built.\n"
     ]
    },
    {
     "name": "stderr",
     "output_type": "stream",
     "text": [
      "WARNING:tensorflow:Skipping full serialization of Keras layer <keras.layers.reshaping.up_sampling2d.UpSampling2D object at 0x000001C1726E9A60>, because it is not built.\n"
     ]
    },
    {
     "name": "stdout",
     "output_type": "stream",
     "text": [
      "WARNING:tensorflow:Skipping full serialization of Keras layer <keras.layers.reshaping.up_sampling2d.UpSampling2D object at 0x000001C16FFEA1C0>, because it is not built.\n"
     ]
    },
    {
     "name": "stderr",
     "output_type": "stream",
     "text": [
      "WARNING:tensorflow:Skipping full serialization of Keras layer <keras.layers.reshaping.up_sampling2d.UpSampling2D object at 0x000001C16FFEA1C0>, because it is not built.\n",
      "WARNING:absl:Found untraced functions such as _jit_compiled_convolution_op, conv2d_494_layer_call_fn, conv2d_494_layer_call_and_return_conditional_losses, _jit_compiled_convolution_op, _jit_compiled_convolution_op while saving (showing 5 of 30). These functions will not be directly callable after loading.\n"
     ]
    },
    {
     "name": "stdout",
     "output_type": "stream",
     "text": [
      "INFO:tensorflow:Assets written to: C:\\Users\\hp\\AppData\\Local\\Temp\\tmpsvngp60d\\assets\n"
     ]
    },
    {
     "name": "stderr",
     "output_type": "stream",
     "text": [
      "INFO:tensorflow:Assets written to: C:\\Users\\hp\\AppData\\Local\\Temp\\tmpsvngp60d\\assets\n"
     ]
    }
   ],
   "source": [
    "converter = tf.lite.TFLiteConverter.from_keras_model(model) # path to the SavedModel directory\n",
    "tflite_model = converter.convert()\n",
    "\n",
    "# Save the model.\n",
    "with open('model.tflite', 'wb') as f:\n",
    "  f.write(tflite_model)"
   ]
  }
 ],
 "metadata": {
  "kernelspec": {
   "display_name": "Python 3 (ipykernel)",
   "language": "python",
   "name": "python3"
  },
  "language_info": {
   "codemirror_mode": {
    "name": "ipython",
    "version": 3
   },
   "file_extension": ".py",
   "mimetype": "text/x-python",
   "name": "python",
   "nbconvert_exporter": "python",
   "pygments_lexer": "ipython3",
   "version": "3.8.10"
  }
 },
 "nbformat": 4,
 "nbformat_minor": 5
}

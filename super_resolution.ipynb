{
 "cells": [
  {
   "cell_type": "code",
   "execution_count": 2,
   "id": "c6bf63a7-00e4-491d-9ffd-2e6531486384",
   "metadata": {},
   "outputs": [],
   "source": [
    "import tensorflow as tf\n",
    "import keras\n",
    "import numpy as np"
   ]
  },
  {
   "cell_type": "code",
   "execution_count": 40,
   "id": "70277edd-55a0-4852-927d-ebfc64e96ac5",
   "metadata": {},
   "outputs": [
    {
     "name": "stdout",
     "output_type": "stream",
     "text": [
      "Model: \"super_resolution\"\n",
      "__________________________________________________________________________________________________\n",
      " Layer (type)                   Output Shape         Param #     Connected to                     \n",
      "==================================================================================================\n",
      " input_32 (InputLayer)          [(1, 512, 512, 3)]   0           []                               \n",
      "                                                                                                  \n",
      " res_block_153 (ResBlock)       (1, 512, 512, 64)    37494       ['input_32[0][0]']               \n",
      "                                                                                                  \n",
      " res_block_154 (ResBlock)       (1, 1024, 1024, 64)  46400       ['res_block_153[0][0]']          \n",
      "                                                                                                  \n",
      " res_block_155 (ResBlock)       (1, 1024, 1024, 128  165376      ['res_block_154[0][0]']          \n",
      "                                )                                                                 \n",
      "                                                                                                  \n",
      " res_block_156 (ResBlock)       (1, 2048, 2048, 128  182912      ['res_block_155[0][0]']          \n",
      "                                )                                                                 \n",
      "                                                                                                  \n",
      " res_block_157 (ResBlock)       (1, 2048, 2048, 64)  55744       ['res_block_156[0][0]']          \n",
      "                                                                                                  \n",
      " up_sampling2d_72 (UpSampling2D  (1, 2048, 2048, 64)  0          ['res_block_154[0][0]']          \n",
      " )                                                                                                \n",
      "                                                                                                  \n",
      " tf.__operators__.add_18 (TFOpL  (1, 2048, 2048, 64)  0          ['res_block_157[0][0]',          \n",
      " ambda)                                                           'up_sampling2d_72[0][0]']       \n",
      "                                                                                                  \n",
      " res_block_158 (ResBlock)       (1, 2048, 2048, 3)   1626        ['tf.__operators__.add_18[0][0]']\n",
      "                                                                                                  \n",
      "==================================================================================================\n",
      "Total params: 489,552\n",
      "Trainable params: 489,552\n",
      "Non-trainable params: 0\n",
      "__________________________________________________________________________________________________\n"
     ]
    }
   ],
   "source": [
    "class ResBlock(keras.layers.Layer):\n",
    "    def __init__(self,filters,do_upsample=False,name=None,**kwargs):\n",
    "        super().__init__(name=None,**kwargs)\n",
    "        self.conv_1 = keras.layers.SeparableConv2D(filters,3,padding=\"same\")\n",
    "        self.conv_2 = keras.layers.Conv2D(filters,3,padding=\"same\")\n",
    "\n",
    "        self.conv_residual = keras.layers.SeparableConv2D(filters,3,padding=\"same\")\n",
    "        self.upsample = tf.keras.layers.UpSampling2D(2)\n",
    "        self.do_upsample = do_upsample\n",
    "\n",
    "    def call(self,x):\n",
    "        residual = x\n",
    "        x = self.conv_1(x)\n",
    "        x = self.conv_2(x)\n",
    "        residual = self.conv_residual(residual)\n",
    "        x = x + residual\n",
    "        if self.do_upsample:\n",
    "            x = self.upsample(x)\n",
    "        return x\n",
    "\n",
    "\n",
    "input = keras.layers.Input((512,512,3),batch_size=1)\n",
    "\n",
    "filters_orig = 64\n",
    "filters = filters_orig\n",
    "x = ResBlock(filters)(input)\n",
    "x0 = ResBlock(filters,do_upsample=True)(x)\n",
    "\n",
    "filters = filters_orig*2\n",
    "x = ResBlock(filters,do_upsample=False)(x0)\n",
    "x = ResBlock(filters,do_upsample=True)(x)\n",
    "\n",
    "filters = filters_orig\n",
    "x = ResBlock(filters,do_upsample=False)(x) + tf.keras.layers.UpSampling2D(2)(x0)\n",
    "x = ResBlock(3,do_upsample=False)(x)\n",
    "\n",
    "model = keras.Model(input,x,name=\"super_resolution\")\n",
    "model.summary()"
   ]
  },
  {
   "cell_type": "code",
   "execution_count": 41,
   "id": "490db60a-dc00-43dc-b734-3c76978bf0a0",
   "metadata": {},
   "outputs": [
    {
     "name": "stdout",
     "output_type": "stream",
     "text": [
      "WARNING:tensorflow:Skipping full serialization of Keras layer <keras.layers.reshaping.up_sampling2d.UpSampling2D object at 0x000001C1722235B0>, because it is not built.\n"
     ]
    },
    {
     "name": "stderr",
     "output_type": "stream",
     "text": [
      "WARNING:tensorflow:Skipping full serialization of Keras layer <keras.layers.reshaping.up_sampling2d.UpSampling2D object at 0x000001C1722235B0>, because it is not built.\n"
     ]
    },
    {
     "name": "stdout",
     "output_type": "stream",
     "text": [
      "WARNING:tensorflow:Skipping full serialization of Keras layer <keras.layers.reshaping.up_sampling2d.UpSampling2D object at 0x000001C16FFF5580>, because it is not built.\n"
     ]
    },
    {
     "name": "stderr",
     "output_type": "stream",
     "text": [
      "WARNING:tensorflow:Skipping full serialization of Keras layer <keras.layers.reshaping.up_sampling2d.UpSampling2D object at 0x000001C16FFF5580>, because it is not built.\n"
     ]
    },
    {
     "name": "stdout",
     "output_type": "stream",
     "text": [
      "WARNING:tensorflow:Skipping full serialization of Keras layer <keras.layers.reshaping.up_sampling2d.UpSampling2D object at 0x000001C1726E9A60>, because it is not built.\n"
     ]
    },
    {
     "name": "stderr",
     "output_type": "stream",
     "text": [
      "WARNING:tensorflow:Skipping full serialization of Keras layer <keras.layers.reshaping.up_sampling2d.UpSampling2D object at 0x000001C1726E9A60>, because it is not built.\n"
     ]
    },
    {
     "name": "stdout",
     "output_type": "stream",
     "text": [
      "WARNING:tensorflow:Skipping full serialization of Keras layer <keras.layers.reshaping.up_sampling2d.UpSampling2D object at 0x000001C16FFEA1C0>, because it is not built.\n"
     ]
    },
    {
     "name": "stderr",
     "output_type": "stream",
     "text": [
      "WARNING:tensorflow:Skipping full serialization of Keras layer <keras.layers.reshaping.up_sampling2d.UpSampling2D object at 0x000001C16FFEA1C0>, because it is not built.\n",
      "WARNING:absl:Found untraced functions such as _jit_compiled_convolution_op, conv2d_494_layer_call_fn, conv2d_494_layer_call_and_return_conditional_losses, _jit_compiled_convolution_op, _jit_compiled_convolution_op while saving (showing 5 of 30). These functions will not be directly callable after loading.\n"
     ]
    },
    {
     "name": "stdout",
     "output_type": "stream",
     "text": [
      "INFO:tensorflow:Assets written to: C:\\Users\\hp\\AppData\\Local\\Temp\\tmpsvngp60d\\assets\n"
     ]
    },
    {
     "name": "stderr",
     "output_type": "stream",
     "text": [
      "INFO:tensorflow:Assets written to: C:\\Users\\hp\\AppData\\Local\\Temp\\tmpsvngp60d\\assets\n"
     ]
    }
   ],
   "source": [
    "converter = tf.lite.TFLiteConverter.from_keras_model(model) # path to the SavedModel directory\n",
    "tflite_model = converter.convert()\n",
    "\n",
    "# Save the model.\n",
    "with open('model.tflite', 'wb') as f:\n",
    "  f.write(tflite_model)"
   ]
  }
 ],
 "metadata": {
  "kernelspec": {
   "display_name": "Python 3 (ipykernel)",
   "language": "python",
   "name": "python3"
  },
  "language_info": {
   "codemirror_mode": {
    "name": "ipython",
    "version": 3
   },
   "file_extension": ".py",
   "mimetype": "text/x-python",
   "name": "python",
   "nbconvert_exporter": "python",
   "pygments_lexer": "ipython3",
   "version": "3.8.10"
  }
 },
 "nbformat": 4,
 "nbformat_minor": 5
}
